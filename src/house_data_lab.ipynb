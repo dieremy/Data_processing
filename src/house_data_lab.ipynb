{
 "cells": [
  {
   "cell_type": "code",
   "execution_count": 4,
   "metadata": {},
   "outputs": [],
   "source": [
    "import os\n",
    "import pandas as pd\n",
    "import configparser as cp\n",
    "import matplotlib.pyplot as plt\n",
    "import seaborn as sns\n",
    "from data_cleaning import DataCleaning"
   ]
  },
  {
   "cell_type": "code",
   "execution_count": 5,
   "metadata": {},
   "outputs": [],
   "source": [
    "CONFIG = os.path.abspath('../config/config.ini')\n",
    "\n",
    "config = cp.ConfigParser()\n",
    "config.read(CONFIG)\n",
    "\n",
    "HOUSE_DATA = config['KC_HOUSE_DATA']['HouseData']"
   ]
  },
  {
   "cell_type": "code",
   "execution_count": 6,
   "metadata": {},
   "outputs": [
    {
     "name": "stdout",
     "output_type": "stream",
     "text": [
      "Index(['id', 'date', 'price', 'bedrooms', 'bathrooms', 'sqft_living',\n",
      "       'sqft_lot', 'floors', 'waterfront', 'view', 'condition', 'grade',\n",
      "       'sqft_above', 'sqft_basement', 'yr_built', 'yr_renovated', 'zipcode',\n",
      "       'lat', 'long', 'sqft_living15', 'sqft_lot15'],\n",
      "      dtype='object')\n",
      "Index(['bathrooms', 'bedrooms', 'condition', 'date', 'floors', 'grade', 'id',\n",
      "       'lat', 'long', 'price', 'sqft_above', 'sqft_basement', 'sqft_living',\n",
      "       'sqft_living15', 'sqft_lot', 'sqft_lot15', 'view', 'waterfront',\n",
      "       'yr_built', 'yr_renovated', 'zipcode'],\n",
      "      dtype='object')\n"
     ]
    }
   ],
   "source": [
    "df = pd.read_csv(HOUSE_DATA)\n",
    "data = DataCleaning(df)\n",
    "\n",
    "print(data.drop_columns(''))\n",
    "print(data.drop_columns('asc'))"
   ]
  },
  {
   "cell_type": "code",
   "execution_count": null,
   "metadata": {},
   "outputs": [],
   "source": []
  }
 ],
 "metadata": {
  "kernelspec": {
   "display_name": "Python 3",
   "language": "python",
   "name": "python3"
  },
  "language_info": {
   "codemirror_mode": {
    "name": "ipython",
    "version": 3
   },
   "file_extension": ".py",
   "mimetype": "text/x-python",
   "name": "python",
   "nbconvert_exporter": "python",
   "pygments_lexer": "ipython3",
   "version": "3.9.18"
  }
 },
 "nbformat": 4,
 "nbformat_minor": 2
}
