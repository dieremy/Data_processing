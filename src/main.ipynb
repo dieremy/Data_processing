{
 "cells": [
  {
   "cell_type": "code",
   "execution_count": 16,
   "id": "fdd9d45d-ba5a-4071-8431-f6b56a34c1cf",
   "metadata": {},
   "outputs": [
    {
     "name": "stderr",
     "output_type": "stream",
     "text": [
      "/tmp/ipykernel_3541105/2431967383.py:4: DtypeWarning: Columns (9,13) have mixed types. Specify dtype option on import or set low_memory=False.\n",
      "  df = pd.read_csv('../data/artwork_data.csv')\n"
     ]
    }
   ],
   "source": [
    "import pandas as  pd\n",
    "from data_cleaning import DataCleaning\n",
    "\n",
    "df = pd.read_csv('../data/artwork_data.csv')\n",
    "\n",
    "# df = df.dropna()\n",
    "# print(df.to_string())\n"
   ]
  },
  {
   "cell_type": "code",
   "execution_count": 17,
   "id": "b5829bac",
   "metadata": {},
   "outputs": [
    {
     "name": "stdout",
     "output_type": "stream",
     "text": [
      "Index(['year', 'width', 'url', 'units', 'title', 'thumbnailUrl',\n",
      "       'thumbnailCopyright', 'medium', 'inscription', 'id', 'height',\n",
      "       'dimensions', 'depth', 'dateText', 'creditLine', 'artistRole',\n",
      "       'artistId', 'artist', 'acquisitionYear', 'accession_number'],\n",
      "      dtype='object')\n"
     ]
    }
   ],
   "source": [
    "data = DataCleaning(df)\n",
    "show = data.drop_columns(sort='desc')\n",
    "print(show)"
   ]
  },
  {
   "cell_type": "code",
   "execution_count": 18,
   "id": "9597551c",
   "metadata": {},
   "outputs": [
    {
     "name": "stdout",
     "output_type": "stream",
     "text": [
      "0           NaN\n",
      "1           NaN\n",
      "2        1785.0\n",
      "3           NaN\n",
      "4        1826.0\n",
      "          ...  \n",
      "69196    1975.0\n",
      "69197    1976.0\n",
      "69198    1996.0\n",
      "69199    2000.0\n",
      "69200    1764.0\n",
      "Name: year, Length: 69201, dtype: float64\n",
      "AVERAGE YEAR >>> 1867\n"
     ]
    }
   ],
   "source": [
    "filtered_data = data.get_integers(df['year'])\n",
    "average_year = filtered_data.mean()\n",
    "\n",
    "print(filtered_data)\n",
    "print(\"AVERAGE YEAR >>>\", int(average_year))"
   ]
  },
  {
   "cell_type": "code",
   "execution_count": 19,
   "id": "7fddd2ef",
   "metadata": {},
   "outputs": [
    {
     "name": "stdout",
     "output_type": "stream",
     "text": [
      "Area results:\n",
      " 0        165086.0\n",
      "1         66243.0\n",
      "2        160181.0\n",
      "3        125292.0\n",
      "4         81405.0\n",
      "           ...   \n",
      "69196     93025.0\n",
      "69197     93025.0\n",
      "69198    108450.0\n",
      "69199         NaN\n",
      "69200    335280.0\n",
      "Length: 69201, dtype: float64\n",
      "AVERAGE AREA >>> 271560.1555\n"
     ]
    }
   ],
   "source": [
    "width = data.get_integers(df['width'])\n",
    "height = data.get_integers(df['height'])\n",
    "\n",
    "\n",
    "area = width.__mul__(height)\n",
    "avg_area = area.mean()\n",
    "\n",
    "print(\"Area results:\\n\", area)\n",
    "print(\"AVERAGE AREA >>>\", round(avg_area, 4))"
   ]
  },
  {
   "cell_type": "code",
   "execution_count": 20,
   "id": "e686dcd4",
   "metadata": {},
   "outputs": [],
   "source": [
    "df_A = pd.read_csv('../data/artist_data.csv')\n",
    "\n",
    "# df.dropna()\n",
    "# print(df.to_string())"
   ]
  },
  {
   "cell_type": "code",
   "execution_count": 21,
   "id": "a1f8cccb",
   "metadata": {},
   "outputs": [
    {
     "name": "stdout",
     "output_type": "stream",
     "text": [
      "0                               Polska\n",
      "1          Philadelphia, United States\n",
      "2           Springfield, United States\n",
      "3       Leicestershire, United Kingdom\n",
      "4                Wigan, United Kingdom\n",
      "                     ...              \n",
      "3527             Andorno Micca, Italia\n",
      "3528         Des Moines, United States\n",
      "3529                            Italia\n",
      "3530                            España\n",
      "3531                            Polska\n",
      "Name: placeOfBirth, Length: 3532, dtype: object\n",
      "0             \n",
      "United Kingdom    1496\n",
      "nan                492\n",
      "United States      339\n",
      "France             158\n",
      "Deutschland        142\n",
      "                  ... \n",
      "Cameroun             1\n",
      "Stoke on Trent       1\n",
      "Suomi                1\n",
      "Tanzania             1\n",
      "Wimbledon            1\n",
      "Name: count, Length: 128, dtype: int64\n"
     ]
    },
    {
     "data": {
      "text/plain": [
       "0             \n",
       "United Kingdom    1496\n",
       "nan                492\n",
       "United States      339\n",
       "France             158\n",
       "Deutschland        142\n",
       "                  ... \n",
       "Cameroun             1\n",
       "Stoke on Trent       1\n",
       "Suomi                1\n",
       "Tanzania             1\n",
       "Wimbledon            1\n",
       "Name: count, Length: 128, dtype: int64"
      ]
     },
     "execution_count": 21,
     "metadata": {},
     "output_type": "execute_result"
    }
   ],
   "source": [
    "data_birth_place = df_A['placeOfBirth'].astype(str)\n",
    "print(data_birth_place)\n",
    "\n",
    "data = []\n",
    "for row in data_birth_place:\n",
    "    data.append(row.split(', ')[-1])\n",
    "\n",
    "new_df = pd.DataFrame(data)\n",
    "new_df.dropna()\n",
    "occurrences = new_df.value_counts()\n",
    "print(occurrences)\n",
    "\n",
    "new_df.value_counts(sort=True)\n",
    "# new_df.value_counts(sort=True).plot.bar()"
   ]
  }
 ],
 "metadata": {
  "kernelspec": {
   "display_name": "Python 3 (ipykernel)",
   "language": "python",
   "name": "python3"
  },
  "language_info": {
   "codemirror_mode": {
    "name": "ipython",
    "version": 3
   },
   "file_extension": ".py",
   "mimetype": "text/x-python",
   "name": "python",
   "nbconvert_exporter": "python",
   "pygments_lexer": "ipython3",
   "version": "3.9.18"
  }
 },
 "nbformat": 4,
 "nbformat_minor": 5
}
