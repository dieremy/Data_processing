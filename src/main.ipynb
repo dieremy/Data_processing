{
 "cells": [
  {
   "cell_type": "code",
   "execution_count": null,
   "id": "fdd9d45d-ba5a-4071-8431-f6b56a34c1cf",
   "metadata": {},
   "outputs": [],
   "source": [
    "import pandas as  pd\n",
    "\n",
    "try: \n",
    "    df = pd.read_csv('../data/artwork_data.csv')\n",
    "except FileNotFoundError:\n",
    "    print(\"Wrong file or file path\")\n",
    "\n",
    "df.dropna()\n",
    "print(df.to_string())\n"
   ]
  },
  {
   "cell_type": "code",
   "execution_count": null,
   "id": "8d8b3fec",
   "metadata": {},
   "outputs": [],
   "source": [
    "class DataCleaning:\n",
    "    def __init__(self, data):\n",
    "        self.data = data\n",
    "\n",
    "    def drop_columns(self, sort):\n",
    "        if sort == 'asc':\n",
    "            sorted_cols = self.data.columns.sort_values()\n",
    "        elif sort == 'desc':\n",
    "            sorted_cols = self.data.columns.sort_values(ascending=False)\n",
    "        else:\n",
    "            sorted_cols = self.data.columns\n",
    "\n",
    "        return sorted_cols\n",
    "    \n",
    "def get_numbers(column):\n",
    "    return pd.to_numeric(column, errors='coerce')\n",
    "        "
   ]
  },
  {
   "cell_type": "code",
   "execution_count": null,
   "id": "b5829bac",
   "metadata": {},
   "outputs": [],
   "source": [
    "data = DataCleaning(df)\n",
    "show = data.drop_columns(sort='')\n",
    "print(show)"
   ]
  },
  {
   "cell_type": "code",
   "execution_count": null,
   "id": "9597551c",
   "metadata": {},
   "outputs": [],
   "source": [
    "filtered_data = pd.to_numeric(df['year'], errors='coerce')\n",
    "# filtered_data = get_numbers(df['year'], errors='coerce')\n",
    "average_year = filtered_data.mean()\n",
    "\n",
    "print(filtered_data)\n",
    "print(\"AVERAGE YEAR >>>\", int(average_year))"
   ]
  },
  {
   "cell_type": "code",
   "execution_count": null,
   "id": "7fddd2ef",
   "metadata": {},
   "outputs": [],
   "source": [
    "width = pd.to_numeric(df['width'], errors='coerce')\n",
    "height = pd.to_numeric(df['height'], errors='coerce')\n",
    "\n",
    "area = width.__mul__(height)\n",
    "avg_area = area.mean()\n",
    "\n",
    "print(\"Area results:\\n\", area)\n",
    "print(\"AVERAGE AREA >>>\", round(avg_area, 4))"
   ]
  },
  {
   "cell_type": "code",
   "execution_count": null,
   "id": "e686dcd4",
   "metadata": {},
   "outputs": [],
   "source": [
    "try: \n",
    "    df = pd.read_csv('../data/artist_data.csv')\n",
    "except FileNotFoundError:\n",
    "    print(\"Wrong file or file path\")\n",
    "\n",
    "df.dropna()\n",
    "print(df.to_string())"
   ]
  },
  {
   "cell_type": "code",
   "execution_count": null,
   "id": "a1f8cccb",
   "metadata": {},
   "outputs": [],
   "source": [
    "def substring_comma(text):\n",
    "    if not text:\n",
    "        return text\n",
    "    \n",
    "    last_comma = text.rfind(',')\n",
    "    if last_comma == -1:\n",
    "        return text\n",
    "    else:\n",
    "        return text[last_comma + 2:]\n",
    "\n",
    "data_birth_place = df['placeOfBirth'].astype(str)\n",
    "print(data_birth_place)\n",
    "\n",
    "data = []\n",
    "for row in data_birth_place:\n",
    "    data.append(substring_comma(row))\n",
    "\n",
    "print(data)\n",
    "\n",
    "new_df = pd.DataFrame(data)\n",
    "new_df.dropna()\n",
    "occurrences = new_df.value_counts()\n",
    "print(occurrences)\n",
    "\n",
    "new_df.value_counts(sort=True)\n",
    "new_df.value_counts(sort=True).plot.bar()"
   ]
  },
  {
   "cell_type": "code",
   "execution_count": null,
   "id": "d5b2695d",
   "metadata": {},
   "outputs": [],
   "source": []
  }
 ],
 "metadata": {
  "kernelspec": {
   "display_name": "Python 3 (ipykernel)",
   "language": "python",
   "name": "python3"
  },
  "language_info": {
   "codemirror_mode": {
    "name": "ipython",
    "version": 3
   },
   "file_extension": ".py",
   "mimetype": "text/x-python",
   "name": "python",
   "nbconvert_exporter": "python",
   "pygments_lexer": "ipython3",
   "version": "3.11.9"
  }
 },
 "nbformat": 4,
 "nbformat_minor": 5
}
